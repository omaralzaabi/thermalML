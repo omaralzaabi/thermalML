{
 "cells": [
  {
   "cell_type": "code",
   "execution_count": 10,
   "id": "simple-termination",
   "metadata": {
    "scrolled": false
   },
   "outputs": [
    {
     "name": "stdout",
     "output_type": "stream",
     "text": [
      "Erms = 12.189057592775578 a = 0.7423076923076919 b = 1.5384615384615385\n",
      "Erms = 0.438017751479288 a = 0.46249291249291324 b = 1.7250047250047245\n",
      "Erms = 0.07829631100279322 a = 0.4993379895391739 b = 1.7004413403072174\n",
      "Erms = 0.0013575597025443642 a = 0.49999978635366954 b = 1.700000142430887\n",
      "Erms = 4.379750233596269e-07 a = 0.49999999999997796 b = 1.7000000000000144\n",
      "Erms = 4.6321719119665155e-14 a = 0.5000000000000004 b = 1.6999999999999997\n",
      "\n",
      " The number of iterations needed to reach the Erms threshold of below 1.0e-7 is 6\n"
     ]
    }
   ],
   "source": [
    "#gradient search to find constants that fit data \n",
    "a0 = 0.2\n",
    "b0 = 1.0\n",
    "x = 9.\n",
    "y = 1.5\n",
    "z1 = 27.45\n",
    "z2 = 10.275\n",
    "a = a0\n",
    "b = b0\n",
    "Erms = 1.e9\n",
    "n=0\n",
    "while Erms > 1.0e-7: #while n < 10:\n",
    "    n=n+1\n",
    "    E1 = a*x + b*x*y - z1\n",
    "    E2 = x + a*b*y - z2\n",
    "    Erms = (E1*E1+E2*E2)**0.5\n",
    "    dE1da = x\n",
    "    dE1db = x*y\n",
    "    dE2da = b*y\n",
    "    dE2db = a*y\n",
    "    J = dE1da * dE2db - dE1db * dE2da\n",
    "    Da = -E1 * dE2db - (-E2) * dE1db\n",
    "    Db = dE1da * (-E2) - (-E1) * dE2da\n",
    "    a = a + Da/J\n",
    "    b = b + Db/J\n",
    "    print ('Erms =', Erms, 'a =', a, 'b =', b)\n",
    "print ('\\n The number of iterations needed to reach the Erms threshold of below 1.0e-7 is', n)"
   ]
  },
  {
   "cell_type": "code",
   "execution_count": 13,
   "id": "driving-victorian",
   "metadata": {},
   "outputs": [
    {
     "name": "stdout",
     "output_type": "stream",
     "text": [
      "Erms = 12.189057592775578 a = 0.7423076923076919 b = 1.5384615384615385\n",
      "Erms = 0.438017751479288 a = 0.46249291249291324 b = 1.7250047250047245\n",
      "Erms = 0.07829631100279322 a = 0.4993379895391739 b = 1.7004413403072174\n",
      "Erms = 0.0013575597025443642 a = 0.49999978635366954 b = 1.700000142430887\n",
      "Erms = 4.379750233596269e-07 a = 0.49999999999997796 b = 1.7000000000000144\n",
      "Erms = 4.6321719119665155e-14 a = 0.5000000000000004 b = 1.6999999999999997\n",
      "Erms = 0.0 a = 0.5000000000000004 b = 1.6999999999999997\n",
      "Erms = 0.0 a = 0.5000000000000004 b = 1.6999999999999997\n",
      "Erms = 0.0 a = 0.5000000000000004 b = 1.6999999999999997\n",
      "Erms = 0.0 a = 0.5000000000000004 b = 1.6999999999999997\n",
      "\n",
      " For the extra steps, the Rrms plateaus to a number small enough to be interpreted as zero for the python float value type.\n"
     ]
    }
   ],
   "source": [
    "#gradient search to find constants that fit data \n",
    "a0 = 0.2\n",
    "b0 = 1.0\n",
    "x = 9.\n",
    "y = 1.5\n",
    "z1 = 27.45\n",
    "z2 = 10.275\n",
    "a = a0\n",
    "b = b0\n",
    "Erms = 1.e9\n",
    "n=0\n",
    "while n < 10:\n",
    "    n=n+1\n",
    "    E1 = a*x + b*x*y - z1\n",
    "    E2 = x + a*b*y - z2\n",
    "    Erms = (E1*E1+E2*E2)**0.5\n",
    "    dE1da = x\n",
    "    dE1db = x*y\n",
    "    dE2da = b*y\n",
    "    dE2db = a*y\n",
    "    J = dE1da * dE2db - dE1db * dE2da\n",
    "    Da = -E1 * dE2db - (-E2) * dE1db\n",
    "    Db = dE1da * (-E2) - (-E1) * dE2da\n",
    "    a = a + Da/J\n",
    "    b = b + Db/J\n",
    "    print ('Erms =', Erms, 'a =', a, 'b =', b)\n",
    "print ('\\n For the extra steps, the Rrms plateaus to a number small enough to be interpreted as zero for the python float value type.')"
   ]
  },
  {
   "cell_type": "code",
   "execution_count": null,
   "id": "considerable-sewing",
   "metadata": {},
   "outputs": [],
   "source": []
  }
 ],
 "metadata": {
  "kernelspec": {
   "display_name": "Python 3",
   "language": "python",
   "name": "python3"
  },
  "language_info": {
   "codemirror_mode": {
    "name": "ipython",
    "version": 3
   },
   "file_extension": ".py",
   "mimetype": "text/x-python",
   "name": "python",
   "nbconvert_exporter": "python",
   "pygments_lexer": "ipython3",
   "version": "3.7.9"
  }
 },
 "nbformat": 4,
 "nbformat_minor": 5
}
